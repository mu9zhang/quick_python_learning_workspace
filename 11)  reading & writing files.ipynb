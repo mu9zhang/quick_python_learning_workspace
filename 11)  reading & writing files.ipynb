{
 "cells": [
  {
   "cell_type": "code",
   "execution_count": 1,
   "metadata": {},
   "outputs": [
    {
     "name": "stdout",
     "output_type": "stream",
     "text": [
      "Python provides a complete set of control flow elements,\n",
      "\n"
     ]
    }
   ],
   "source": [
    "\"\"\"\n",
    "Opening files and file objects\n",
    "\n",
    "\n",
    "1. In Python, you open and read a file by using the built-in open function and various built-in reading operations. The open doesn’t read\n",
    "   anything from the file; instead, it returns an object called a file object that you can use to access the opened file. A file object keeps\n",
    "   track of a file and how much of the file has been read or written. All Python file I/O is done using file objects rather than filenames.\n",
    "\n",
    "2. In the example, the first call to readline returns the first line in the file object, everything up to and including the first newline\n",
    "   character or the entire file if there’s no newline character in the file; the next call to readline returns the second line, if it\n",
    "   exists, and so on.\n",
    "\n",
    "3. The first argument to the open function is a pathname. In the example, you’re opening what you expect to be an existing file\n",
    "   in the current working directory.\n",
    "\n",
    "4. Note also that this example uses the with keyword, indicating that the file will be opened with a context manager. It’s enough to note\n",
    "   that this style of opening files better manages potential I/O errors and is generally preferred.\n",
    "\"\"\"\n",
    "with open('data/word_count.txt', 'r') as file_object:\n",
    "    line = file_object.readline()\n",
    "    print(line)\n"
   ]
  },
  {
   "cell_type": "code",
   "execution_count": 2,
   "metadata": {},
   "outputs": [
    {
     "name": "stdout",
     "output_type": "stream",
     "text": [
      "Python provides a complete set of control flow elements,\n",
      "\n"
     ]
    }
   ],
   "source": [
    "\"\"\"\n",
    "Closing files\n",
    "\n",
    "\n",
    "1. After all data has been read from or written to a file object, it should be closed. Closing a file object frees up system resources,\n",
    "   allows the underlying file to be read or written to by other code, and in general makes the program more reliable. For small scripts,\n",
    "   not closing a file object generally doesn’t have much of an effect; file objects are automatically closed when the script or program\n",
    "   terminates. For larger programs, too many open file objects may exhaust system resources, causing the program to abort.\n",
    "\n",
    "2. You close a file object by using the close method when the file object is no longer needed. Or using a context manager and the keyword\n",
    "   with is also a good way to automatically close files when you’re done.\n",
    "\"\"\"\n",
    "file_object = open('data/word_count.txt', 'r')\n",
    "line = file_object.readline()\n",
    "print(line)\n",
    "file_object.close()\n"
   ]
  },
  {
   "cell_type": "code",
   "execution_count": 3,
   "metadata": {},
   "outputs": [],
   "source": [
    "\"\"\"\n",
    "Opening files in write or other modes\n",
    "\n",
    "\n",
    "1. The second argument of the open command is a string denoting how the file should be opened. 'r' means “Open the file for reading,”\n",
    "   'w' means “Open the file for writing”(any data already in the file will be erased), and 'a' means “Open the file for appending”\n",
    "   (new data will be appended to the end of any data already in the file). If you want to open the file for reading, you can leave out\n",
    "   the second argument; 'r' is the default.\n",
    "\n",
    "2. Depending on the operating system, open may also have access to additional file modes. The open can take an optional third argument,\n",
    "   which defines how reads or writes for that file are buffered. Buffering is the process of holding data in memory until enough data has\n",
    "   been requested or written to justify the time cost of doing a disk access. Other parameters to open control the encoding for text files\n",
    "   and the handling of newline characters in text files.\n",
    "\"\"\"\n",
    "file_object = open('data/myfile.txt', 'w')\n",
    "file_object.write(\"Hello World!\")\n",
    "file_object.close()"
   ]
  },
  {
   "cell_type": "code",
   "execution_count": 3,
   "metadata": {},
   "outputs": [
    {
     "name": "stdout",
     "output_type": "stream",
     "text": [
      "4\n",
      "4\n",
      "4\n"
     ]
    }
   ],
   "source": [
    "\"\"\"\n",
    "Counting file lines\n",
    "\n",
    "\n",
    "1. If there’s nothing more to be read from the file, readline returns an empty string, which makes it easy to (for example) count the\n",
    "   number of lines in a file\n",
    "\n",
    "2. An even shorter way to count all the lines is to use the built-in readlines method, which reads all the lines in a file and returns them\n",
    "   as a list of strings, one string per line (with trailing newlines still included)\n",
    "\n",
    "3. If you happen to be counting all the lines in a huge file, of course, this method may cause your computer to run out of memory because\n",
    "   it reads the entire file into memory at once. It’s also possible to overflow memory with readline if you have the misfortune to try to\n",
    "   read a line from a huge file that contains no newline characters, although this situation is highly unlikely. To handle such circumstances,\n",
    "   both readline and readlines can take an optional argument affecting the amount of data they read at any one time.\n",
    "\n",
    "4. Another way to iterate over all of the lines in a file is to treat the file object as an iterator in a for loop. This method has\n",
    "   the advantage that the lines are read into memory as needed, so even with large files, running out of memory isn’t a concern.\n",
    "   The other advantage of this method is that it’s simpler and easier to read.\n",
    "\"\"\"\n",
    "\n",
    "# count line 1\n",
    "file_object = open('data/word_count.txt', 'r')\n",
    "count = 0\n",
    "while file_object.readline() != \"\":\n",
    "    count = count + 1\n",
    "print(count)\n",
    "file_object.close()\n",
    "\n",
    "# count line 2\n",
    "file_object = open(\"data/word_count.txt\", 'r')\n",
    "print(len(file_object.readlines()))\n",
    "file_object.close()\n",
    "\n",
    "# count line 3\n",
    "file_object = open(\"data/word_count.txt\", 'r')\n",
    "count = 0\n",
    "for line in file_object:\n",
    "    count = count + 1\n",
    "print(count)\n",
    "file_object.close()"
   ]
  },
  {
   "cell_type": "code",
   "execution_count": 9,
   "metadata": {},
   "outputs": [
    {
     "name": "stdout",
     "output_type": "stream",
     "text": [
      "Python provides a complete set of control flow elements,\n",
      "including while and for loops, and conditionals.\n",
      "Python uses the level of indentation to group blocks\n",
      "of code with control elements.\n"
     ]
    }
   ],
   "source": [
    "\"\"\"\n",
    "newline in text mode\n",
    "\n",
    "\n",
    "1. A possible problem with the read method may arise due to the fact that on Windows and Macintosh machines, text-mode translations occur\n",
    "   if you use the open command in text mode—that is, without adding a b to the mode. In text mode, on a Macintosh any \\r is converted to\n",
    "   \"\\n\", whereas on Windows \"\\r\\n\" pairs are converted to \"\\n\". You can specify the treatment of newline characters by using the newline\n",
    "   parameter when you open the file and specifying newline=\"\\n\", \"\\r\", or \"\\r\\n\".\n",
    "\n",
    "2. If the file has been opened in binary mode, the newlinepparameter isn’t needed, because all bytes are returned exactly as they are\n",
    "   in the file.\n",
    "\"\"\"\n",
    "\n",
    "# Forces only \"\\r\" to be considered to be a newline. \n",
    "file_object = open(\"data/word_count.txt\", newline=\"\\r\")\n",
    "for line in file_object:\n",
    "    print(line)\n",
    "file_object.close()"
   ]
  },
  {
   "cell_type": "code",
   "execution_count": 12,
   "metadata": {},
   "outputs": [],
   "source": [
    "\"\"\"\n",
    "write & writeline\n",
    "\n",
    "\n",
    "1. The write methods that correspond to the readline and readlines methods are the write and writelines methods. Note that there’s no\n",
    "   writeline function.\n",
    "   \n",
    "2. The write method writes a single string, which can span multiple lines if newline characters are embedded within the string. The write\n",
    "   doesn’t write out a newline after it writes its argument; if you want a newline in the output, you must put it there yourself.\n",
    "   If you open a file in text mode (using w), any \\n characters are mapped back to the platform-specific line endings (that is, '\\r\\n'\n",
    "   on Windows or '\\r' on Macintosh platforms). Again, opening the file with a specified newline prevents this situation. \n",
    "\n",
    "3. The writelines method is something of a misnomer because it doesn’t necessarily write lines; it takes a list of strings as an argument\n",
    "   and writes them, one after the other, to the given file object without writing newlines. If the strings in the list end with newlines,\n",
    "   they’re written as lines; otherwise, they’re effectively concatenated in the file. But writelines is a precise inverse of readlines\n",
    "   in that it can be used on the list returned by readlines to write a file identical to the file readlines read from.\n",
    "\"\"\"\n",
    "lines = [\"123\\n\", \"hello\\r\", \"word\"]\n",
    "output = open(\"data/myfile2.txt\", 'w')\n",
    "output.writelines(lines)\n",
    "output.close()"
   ]
  },
  {
   "cell_type": "code",
   "execution_count": 14,
   "metadata": {},
   "outputs": [
    {
     "name": "stdout",
     "output_type": "stream",
     "text": [
      "b'123\\n' b'hello\\rword'\n"
     ]
    }
   ],
   "source": [
    "\"\"\"\n",
    "Binary mode\n",
    "\n",
    "\n",
    "1. On some occasions, you may want to read all the data in a file into a single bytes object, especially if the data isn’t a string,\n",
    "   and you want to get it all into memory so you can treat it as a byte sequence. Or you may want to read data from a file as bytes\n",
    "   objects of a fixed size.\n",
    "\n",
    "2. You may be reading data without explicit newlines, for example, where each line is assumed to be a sequence of characters of a fixed\n",
    "   size. To do so, use the read method. Without any argument, this method reads all of a file from the current position and returns that\n",
    "   data as a bytes object. With a single-integer argument, it reads that number of bytes (or less, if there isn’t enough data in the file\n",
    "   to satisfy the request) and returns a bytes object of the given size.\n",
    "\n",
    "3. Keep in mind that files open in binary mode deal only in bytes, not strings. To use the data as strings, you must decode any bytes\n",
    "   objects to string objects. This point is often important in dealing with network protocols, where data streams often behave as files\n",
    "   but need to be interpreted as bytes, not strings.\n",
    "\"\"\"\n",
    "\n",
    "input_file = open(\"data/myfile2.txt\", 'rb')\n",
    "header = input_file.read(4)\n",
    "data = input_file.read()\n",
    "print(header, data)\n",
    "input_file.close()"
   ]
  },
  {
   "cell_type": "code",
   "execution_count": 15,
   "metadata": {},
   "outputs": [
    {
     "name": "stdout",
     "output_type": "stream",
     "text": [
      "18 Text file contents\n",
      "20 b'Binary file contents'\n"
     ]
    }
   ],
   "source": [
    "\"\"\"\n",
    "Reading and writing with pathlib\n",
    "\n",
    "\n",
    "In addition to its path-manipulation powers, a Path object can be used to read and write text and binary files. This capability can be\n",
    "convenient because no open or close is required, and separate methods are used for text and binary operations. One limitation, however,\n",
    "is that you have no way to append by using Path methods, because writing replaces any existing content.\n",
    "\"\"\"\n",
    "from pathlib import Path\n",
    "\n",
    "\n",
    "p_text = Path('data/myfile3.txt')\n",
    "return_value = p_text.write_text('Text file contents')\n",
    "print(return_value, p_text.read_text())\n",
    "\n",
    "p_binary = Path('data/myfile4.txt')\n",
    "return_value = p_binary.write_bytes(b'Binary file contents')\n",
    "print(return_value, p_binary.read_bytes())"
   ]
  },
  {
   "cell_type": "code",
   "execution_count": 21,
   "metadata": {},
   "outputs": [],
   "source": [
    "\"\"\"\n",
    "Screen input/output and redirection\n",
    "\n",
    "1. You can use the built-in input method to prompt for and read an input string. The prompt line is optional, and the newline\n",
    "   at the end of the input line is stripped off. To read in numbers by using input, you need to explicitly convert the string\n",
    "   that input returns to the correct number type.\n",
    "\n",
    "2. input writes its prompt to the standard output and reads from the standard input. Lower-level access to these and standard error\n",
    "   can be obtained by using the sys module, which has sys.stdin, sys.stdout, and sys.stderr attributes. These attributes can be treated\n",
    "   as specialized file objects. For sys.stdin, you have the read, readline, and readlines methods. For sys.stdout and sys.stderr, you\n",
    "   can use the standard print function as well as the write and writelines methods, which operate as they do for other file objects.\n",
    "\n",
    "3. You can redirect standard input to read from a file. Similarly, standard output or standard error can be set to write to files\n",
    "   and then programmatically restored to their original values by using sys.__stdin__, sys.__stdout__, and sys.__stderr__.\n",
    "\n",
    "\n",
    "# input\n",
    "x = input(\"enter file name to use: \")\n",
    "print(x)\n",
    "y = int(input(\"enter your number: \"))\n",
    "print(y)\n",
    "\"\"\"\n",
    "# sys.stdout, sys.stdin, sys.stderr\n",
    "import sys\n",
    "\n",
    "#print(\"Write to the standard output.\")\n",
    "#sys.stdout.write(\"Write to the standard output2.\\n\")\n",
    "#s = sys.stdin.readline()\n",
    "#print(s)\n",
    "\n",
    "# redirect\n",
    "f = open(\"./data/myfile5.txt\", 'w')\n",
    "sys.stdout = f\n",
    "sys.stdout.writelines([\"A first line.\\n\", \"A second line.\\n\"])\n",
    "print(\"3+4\")\n",
    "sys.stdout = sys.__stdout__\n",
    "f.close()\n",
    "\n",
    "f = open(\"./data/myfile6.txt\", 'w')\n",
    "# The print function also can be redirected to any file without changing standard output\n",
    "print(\"A first line.\\n\", \"A second line.\\n\", file=f) # \n",
    "f.close()"
   ]
  },
  {
   "cell_type": "code",
   "execution_count": 26,
   "metadata": {},
   "outputs": [],
   "source": [
    "\"\"\"\n",
    "The module mio\n",
    "\"\"\"\n",
    "sys.path.append('./module')\n",
    "import mio\n",
    "\n",
    "mio.capture_output(file=\"./data/capture_file\")\n",
    "print('hello world1')\n",
    "print(\"test2\")\n",
    "mio.restore_output()\n",
    "mio.print_file(file=\"./data/capture_file\")\n",
    "mio.clear_file()"
   ]
  },
  {
   "cell_type": "code",
   "execution_count": 24,
   "metadata": {
    "scrolled": true
   },
   "outputs": [
    {
     "name": "stdout",
     "output_type": "stream",
     "text": [
      "[(7, 3.14, b'gbye')]\n"
     ]
    }
   ],
   "source": [
    "\"\"\"\n",
    "Reading structured binary data with the struct module\n",
    "\n",
    "1. For very simple storage needs, it’s usually best to use text or bytes input and output. For more sophisticated applications, Python\n",
    "   provides the ability to easily read or write arbitrary Python objects (pickling). This ability is much less error-prone than directly\n",
    "   writing and reading your own binary data and is highly recommended.\n",
    "\n",
    "2. But there’s at least one situation in which you’ll likely need to know how to read or write binary data: when you’re dealing with\n",
    "   files that are generated or used by other programs. \n",
    "\n",
    "3. As you've seen, Python supports explicit binary input or output by using bytes instead of strings if you open the file in binary mode.\n",
    "   But because most binary files rely on a particular structure to help parse the values, writing your own code to read and split them into\n",
    "   variables correctly is often more work than it’s worth. Instead, you can use the standard struct module to permit you to treat those\n",
    "   strings as formatted byte sequences with some specific meaning.\n",
    "\n",
    "4. struct gets even better; you can insert other special characters into the format string to indicate that data should be read/written\n",
    "   in big-endian, little-endian, or machinenative-endian format (default is machine-native) and to indicate that things like a C short\n",
    "   integer should be sized either as native to the machine (the default) or as standard C sizes.\n",
    "\"\"\"\n",
    "import struct\n",
    "\n",
    "# Define a format string understandable to the struct module, which tells the module how the data in one of your records is packed\n",
    "record_format = 'hd4s'\n",
    "\n",
    "# determine the number of bytes used to contain data in such a format\n",
    "record_size = struct.calcsize(record_format)\n",
    "\n",
    "# read record\n",
    "result_list = []\n",
    "input = open('./data/myfile7.txt', 'rb')\n",
    "while 1:\n",
    "    record = input.read(record_size)\n",
    "    if record == b'':\n",
    "        input.close()\n",
    "        break\n",
    "    # unpack the record into a tuple\n",
    "    result_list.append(struct.unpack(record_format, record))\n",
    "print(result_list)\n"
   ]
  },
  {
   "cell_type": "code",
   "execution_count": 27,
   "metadata": {},
   "outputs": [
    {
     "name": "stdout",
     "output_type": "stream",
     "text": [
      "1 [1, 2, '3asd', b'hhh'] {'d': 1, 'c': 2}\n"
     ]
    }
   ],
   "source": [
    "\"\"\"\n",
    "Pickling object files\n",
    "\n",
    "1. Python can write any data structure into a file, read that data structure back out of a file, and re-create it with just a few commands.\n",
    "   This capability is unusual but can be useful, because it can save you many pages of code that do nothing but dump the state of a program\n",
    "   into a file (and can save a similar amount of code that does nothing but read that state back in). Python provides this capability via\n",
    "   the pickle module. \n",
    "\n",
    "2. It doesn’t matter what was stored in a, b, and c. The content might be as simple as numbers or as complex as a list of dictionaries\n",
    "   containing instances of user-defined classes. pickle.dump saves everything. Any data that was previously in the variables a, b, or c\n",
    "   is restored to them by pickle.load.\n",
    "\n",
    "3.  The pickle module can store almost anything in this manner. It can handle lists, tuples, numbers, strings, dictionaries, and just about\n",
    "    anything made up of these types of objects, which includes all class instances. It also handles shared objects, cyclic references,\n",
    "    and other complex memory structures correctly, storing shared objects only once and restoring them as shared objects, not as identical\n",
    "    copies. But code objects (what Python uses to store byte-compiled code) and system resources (like files or sockets) can’t be pickled.\n",
    " \n",
    "4. More often than not, you won’t want to save your entire program state with pickle. Most applications can have multiple documents open\n",
    "   at one time, for example. If you saved the entire state of the program, you would effectively save all open documents in one file.\n",
    "   An easy and effective way of saving and restoring only data of interest is to write a save function that stores all data you want to\n",
    "   save into a dictionary and then uses pickle to save the dictionary. Then you can use a complementary restore function to read\n",
    "   the dictionary back in (again using pickle) and to assign the values in the dictionary to the appropriate program variables.\n",
    "   This technique also has the advantage that there’s no possibility of reading values back in an incorrect order— that is, an order\n",
    "   different from the order in which the values were stored.\n",
    "\n",
    "5. Reasons not to pickle:\n",
    "   --- Pickling is neither particularly fast nor space-efficient as a means of serialization. Even using JSON to store serialized objects\n",
    "       is faster and results in smaller files on disk.\n",
    "   --- Pickling isn’t secure, and loading a pickle with malicious content can result in the execution of arbitrary code on your machine.\n",
    "       Therefore, you should avoid pickling if there’s any chance at all that the pickle file will be accessible to anyone who might\n",
    "       alter it. \n",
    "\"\"\"\n",
    "import pickle\n",
    "\n",
    "#\n",
    "a = 1\n",
    "b = [1, 2, '3asd', b'hhh']\n",
    "c = {'d': 1, 'c': 2}\n",
    "\n",
    "file = open(\"./data/state\", \"wb\")\n",
    "pickle.dump(a, file)\n",
    "pickle.dump(b, file)\n",
    "pickle.dump(c, file)\n",
    "file.close()\n",
    "\n",
    "file = open(\"./data/state\", 'rb')\n",
    "e = pickle.load(file)\n",
    "d = pickle.load(file)\n",
    "f = pickle.load(file)\n",
    "file.close()\n",
    "\n",
    "print(e, d, f)"
   ]
  },
  {
   "cell_type": "code",
   "execution_count": 28,
   "metadata": {},
   "outputs": [
    {
     "name": "stdout",
     "output_type": "stream",
     "text": [
      "('fred', '555-1234', '1233 Bedrock Place')\n"
     ]
    }
   ],
   "source": [
    "\"\"\"\n",
    "Shelve module\n",
    "\n",
    "1. The shelve object as being a dictionary that stores its data in a file on disk rather than in memory, which means that you still have\n",
    "   the convenience of access with a key, but you don’t have the limitations of the amount of available RAM.\n",
    "\n",
    "2. The Python shelve module permits the reading or writing of pieces of data in large files without reading or writing the entire file\n",
    "   \n",
    "3. shelve.open returns a shelf object that permits basic dictionary operations, key assignment or lookup, del, in, and the keys method.\n",
    "   But unlike a normal dictionary, shelf objects store their data on disk, not in memory. Unfortunately, shelf objects do have one\n",
    "   significant restriction compared with dictionaries: They can use only strings as keys, versus the wide range of key types allowable\n",
    "   in dictionaries. \n",
    "\"\"\"\n",
    "\n",
    "import shelve\n",
    "\n",
    "book = shelve.open(\"./data/address\")\n",
    "book['flintstone'] = ('fred', '555-1234', '1233 Bedrock Place')\n",
    "book['rubble'] = ('barney', '555-4321', '1235 Bedrock Place')\n",
    "book.close()\n",
    "\n",
    "book = shelve.open(\"./data/address\")\n",
    "print(book['flintstone'])"
   ]
  },
  {
   "cell_type": "code",
   "execution_count": null,
   "metadata": {},
   "outputs": [],
   "source": []
  },
  {
   "cell_type": "code",
   "execution_count": null,
   "metadata": {},
   "outputs": [],
   "source": [
    "\n",
    "\n",
    "\n",
    "\n",
    "\n",
    "\n",
    "\n",
    "\n",
    "\n",
    "\n",
    "\n",
    "\n",
    "\n",
    "\n",
    "\n",
    "\n",
    "\n",
    "\n",
    "\n",
    "\n",
    "\n",
    "\n",
    "\n",
    "\n",
    "\n",
    "\n",
    "\n",
    "\n",
    "\n"
   ]
  }
 ],
 "metadata": {
  "kernelspec": {
   "display_name": "Python 3",
   "language": "python",
   "name": "python3"
  }
 },
 "nbformat": 4,
 "nbformat_minor": 2
}
