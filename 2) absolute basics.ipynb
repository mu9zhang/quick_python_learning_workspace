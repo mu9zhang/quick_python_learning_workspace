{
 "cells": [
  {
   "cell_type": "code",
   "execution_count": null,
   "metadata": {},
   "outputs": [],
   "source": [
    "\"\"\"\n",
    "Indentation and Block Structuring\n",
    "\n",
    "1. Python differs from most other programming languages because it uses whitespace and indentation to determine block structure.\n",
    "\n",
    "2. The benefits:\n",
    "   -- It’s impossible to have missing or extra braces. You never need to hunt through your code for the brace near the bottom that\n",
    "      matches the one a few lines from the top.\n",
    "   -- The visual structure of the code reflects its real structure, which makes it easy to grasp the skeleton of code just by looking\n",
    "      at it.\n",
    "   -- Python coding styles are mostly uniform. In other words, you’re unlikely to go crazy from dealing with someone’s idea of\n",
    "      aesthetically pleasing code. Everyone’s code will look pretty much like yours.\n",
    "\"\"\""
   ]
  },
  {
   "cell_type": "code",
   "execution_count": null,
   "metadata": {},
   "outputs": [],
   "source": [
    "\"\"\"\n",
    "Differentiating Comments\n",
    "\n",
    "For the most part, anything following a # symbol in a Python file is a comment and is disregarded by the language. The obvious exception\n",
    "is a # in a string, which is just a character of that string\n",
    "\"\"\"\n",
    "# Assign 5 to x\n",
    "x = 5\n",
    "x = \"# This is not a comment\""
   ]
  },
  {
   "cell_type": "code",
   "execution_count": 2,
   "metadata": {},
   "outputs": [
    {
     "name": "stdout",
     "output_type": "stream",
     "text": [
      "[1, 5, 3] [1, 5, 3] [1, 5, 3]\n",
      "1 5 1\n",
      "Hello\n",
      "5\n"
     ]
    },
    {
     "ename": "NameError",
     "evalue": "name 'x' is not defined",
     "output_type": "error",
     "traceback": [
      "\u001b[0;31m---------------------------------------------------------------------------\u001b[0m",
      "\u001b[0;31mNameError\u001b[0m                                 Traceback (most recent call last)",
      "\u001b[0;32m<ipython-input-2-34f7d8e48881>\u001b[0m in \u001b[0;36m<module>\u001b[0;34m()\u001b[0m\n\u001b[1;32m     48\u001b[0m \u001b[0my\u001b[0m \u001b[0;34m=\u001b[0m \u001b[0mx\u001b[0m\u001b[0;34m\u001b[0m\u001b[0m\n\u001b[1;32m     49\u001b[0m \u001b[0;32mdel\u001b[0m \u001b[0mx\u001b[0m\u001b[0;34m\u001b[0m\u001b[0m\n\u001b[0;32m---> 50\u001b[0;31m \u001b[0mprint\u001b[0m\u001b[0;34m(\u001b[0m\u001b[0mx\u001b[0m\u001b[0;34m,\u001b[0m \u001b[0my\u001b[0m\u001b[0;34m)\u001b[0m\u001b[0;34m\u001b[0m\u001b[0m\n\u001b[0m",
      "\u001b[0;31mNameError\u001b[0m: name 'x' is not defined"
     ]
    }
   ],
   "source": [
    "\"\"\"\n",
    "Variables and Assignments\n",
    "\n",
    "1. In Python, unlike in many other computer languages, neither a variable type declaration nor an end-of-line delimiter is necessary.\n",
    "   The line is ended by the end of the line. Variables are created automatically when they’re first assigned.\n",
    "\n",
    "2. A common, but inaccurate, explanation is that a variable is a container that stores a value, somewhat like a bucket. However, in Python\n",
    "   variables are not buckets. Instead, they’re labels or tags that refer to objects in the Python interpreter’s namespace. Any number of\n",
    "   labels (or variables) can refer to the same object, and when that object changes, the value referred to by all of those variables also\n",
    "   changes.\n",
    " \n",
    "3. If the variables are referring to constants or immutable values, this distinction(container/bucket or label/tag) isn't quite as clear.\n",
    "   Because the objects they refer to can't change, the behavior of the variables in this case is consistent with either explanation. \n",
    "\n",
    "4. Python variables can be set to any object, whereas in C and many other languages, variables can store only the type of value they’re\n",
    "   declared as. However, this feature can be abused, because arbitrarily assigning the same variable name to refer successively to different\n",
    "   data types can make code confusing to understand. \n",
    "\n",
    "5. A new assignment overrides any previous assignments. The del statement deletes the variable. Trying to print the variable's contents\n",
    "   after deleting it results in an error, as though the variable had never been created in the first place.\n",
    "\n",
    "6. Variable names are case-sensitive and can include any alphanumeric character as well as underscores but must start with a letter or\n",
    "   underscore.\n",
    "\"\"\"\n",
    "\n",
    "# Point 2\n",
    "a = [1, 2, 3]\n",
    "b = a\n",
    "c = b\n",
    "b[1] = 5\n",
    "print(a, b, c)\n",
    "\n",
    "# Point 3\n",
    "e = 1\n",
    "f = e\n",
    "g = f\n",
    "f = 5\n",
    "print(e, f, g)\n",
    "\n",
    "# Point 4\n",
    "x = \"Hello\"\n",
    "print(x)\n",
    "x = 5\n",
    "print(x)\n",
    "\n",
    "# Point 5: Raise a exception\n",
    "x = [2, 4]\n",
    "y = x\n",
    "del x\n",
    "print(x, y)"
   ]
  },
  {
   "cell_type": "code",
   "execution_count": 3,
   "metadata": {},
   "outputs": [
    {
     "name": "stdout",
     "output_type": "stream",
     "text": [
      "2.6666666666666665 2\n"
     ]
    }
   ],
   "source": [
    "\"\"\"\n",
    "Expression\n",
    "\n",
    "1. Note that arithmetic operators involving only integers do not always return an integer. Even though all the values are integers, the\n",
    "   division (starting with Python 3) returns a floating-point number, so the fractional part isn’t truncated. If you want traditional integer\n",
    "   division returning a truncated integer, you can use // instead.\n",
    "\n",
    "2. Expressions don’t have to involve just numerical values; strings, Boolean values, and many other types of objects can be used in\n",
    "   expressions in various ways.\n",
    "\"\"\"\n",
    "\n",
    "x = 3\n",
    "y = 5\n",
    "z1 = (x + y) / 3\n",
    "z2 = (x + y) //3\n",
    "print(z1, z2)"
   ]
  },
  {
   "cell_type": "code",
   "execution_count": 4,
   "metadata": {},
   "outputs": [
    {
     "name": "stdout",
     "output_type": "stream",
     "text": [
      "Don't need a backslash\n",
      "Can't get by without a backslash\n",
      "Starting and ending a string with triple \" characters\n",
      "permits embedded newlines, and the use of \" and ' without\n",
      "backslashes\n"
     ]
    }
   ],
   "source": [
    "\"\"\"\n",
    "Strings\n",
    "\n",
    "1. You can use single quotes instead of double quotes. And you don’t need to backslash \" characters in single-quoted strings or ' characters\n",
    "   in double-quoted strings.\n",
    "\n",
    "2. You can’t split a normal string across lines. But Python offers triple-quoted strings, which let you do this and include single and\n",
    "   double quotes without backslashes. (You can use triple single quotes—'''—instead of triple double quotes to do the same thing.)\n",
    "\"\"\"\n",
    "\n",
    "# Point 1\n",
    "x = \"Don't need a backslash\"\n",
    "y = 'Can\\'t get by without a backslash'\n",
    "\n",
    "# Point 2\n",
    "z = \"\"\"Starting and ending a string with triple \" characters\n",
    "permits embedded newlines, and the use of \" and ' without\n",
    "backslashes\"\"\"\n",
    "\n",
    "print(x)\n",
    "print(y)\n",
    "print(z)"
   ]
  },
  {
   "cell_type": "code",
   "execution_count": 5,
   "metadata": {},
   "outputs": [
    {
     "name": "stdout",
     "output_type": "stream",
     "text": [
      "200\n",
      "200\n",
      "200.0\n"
     ]
    }
   ],
   "source": [
    "\"\"\"\n",
    "Numbers\n",
    "\n",
    "1. Python offers four kinds of numbers: integers, floats, complex numbers, and Booleans. An integer constant has unlimited range,\n",
    "   restricted only by the resources of your machine. A float can be written with a decimal point or in scientific notation: 3.14, –2E-8,\n",
    "   2.718281828. The precision of these values is governed by the underlying machine but is typically equal to double (64-bit) types in C.\n",
    "   Booleans are either True or False and behave identically to 1 and 0 except for their string representations. \n",
    "\n",
    "2. Operations involving two integers produce an integer, except for division (/), which results in a float. If the // division symbol is\n",
    "   used, the result is an integer, with truncation. Operations involving a float always produce a float. \n",
    "\n",
    "3. Python built-in numeric function: \n",
    "   abs, divmod, float, hex, int, max, min, oct, pow, round.\n",
    "\n",
    "4. More advanced numeric functions such as the trig and hyperbolic trig functions, as well as a few useful constants  aren’t built into\n",
    "   Python but are provided in a standard module called math:\n",
    "   acos, asin, atan, atan2, ceil, cos, cosh, e, exp, fabs, floor, fmod, frexp, hypot, ldexp, log, log10, mod, pi,\n",
    "   pow, sin, sinh, sqrt, tan, tanh\n",
    "\n",
    "5. The core Python installation isn’t well suited to intensive numeric computation because of speed constraints. But the powerful Python\n",
    "   extension NumPy provides highly efficient implementations of many advanced numeric operations.\n",
    "\n",
    "6. The functions in the math module don’t apply to complex numbers; the rationale is that most users want the square root of –1 to\n",
    "   generate an error, not an answer! Instead, similar functions, which can operate on complex numbers, are provided in the cmath module:\n",
    "   acos, acosh, asin, asinh, atan, atanh, cos, cosh, e, exp, log, log10, pi, sin, sinh, sqrt, tan, tanh\n",
    "\n",
    "7. This is a good example of why it’s best to minimize the use of the from <module> import * form of the import statement. If you used it\n",
    "   to import first the math module and then the cmath module, the commonly named functions in cmath would override those of math. It’s\n",
    "   also more work for someone reading your code to figure out the source of the specific functions you use. Some modules are explicitly\n",
    "   designed to use this form of import. \n",
    "\"\"\"\n",
    "\n",
    "# explicit conversion\n",
    "print(int(200.2))\n",
    "print(int(2e2))\n",
    "print(float(200))"
   ]
  },
  {
   "cell_type": "code",
   "execution_count": null,
   "metadata": {},
   "outputs": [],
   "source": [
    "\"\"\"\n",
    "The None value\n",
    "\n",
    "1. In addition to standard types such as strings and numbers, Python has a special basic data type that defines a single special data object\n",
    "   called None. As the name suggests, None is used to represent an empty value. It appears in various guises throughout Python. For example,\n",
    "   a procedure in Python is just a function that doesn’t explicitly return a value, which means that by default, it returns None.\n",
    "\n",
    "2. None is often useful in day-to-day Python programming as a placeholder to indicate a point in a data structure where meaningful data will\n",
    "   eventually be found, even though that data hasn’t yet been calculated. You can easily test for the presence of None because there’s\n",
    "   only one instance of None in the entire Python system (all references to None point to the same object), and None is equivalent only to\n",
    "   itself.\n",
    "\"\"\""
   ]
  },
  {
   "cell_type": "code",
   "execution_count": 6,
   "metadata": {},
   "outputs": [
    {
     "name": "stdout",
     "output_type": "stream",
     "text": [
      "Name? f\n",
      "f\n"
     ]
    }
   ],
   "source": [
    "\"\"\"\n",
    "Getting Input From the User\n",
    "\n",
    "You can also use the input() function to get input from the user. Use the prompt string you want to display to the user as input’s\n",
    "parameter. The one catch is that the input comes in as a string, so if you want to use it as a number, you have to use the int() or float()\n",
    "function to convert it. \n",
    "\"\"\"\n",
    "\n",
    "name = input(\"Name? \")\n",
    "print(name)"
   ]
  },
  {
   "cell_type": "code",
   "execution_count": null,
   "metadata": {},
   "outputs": [],
   "source": [
    "\"\"\"\n",
    "Basic Python Style\n",
    "\n",
    "|          Situation            |                          Suggestion                              |             Example            |\n",
    "      Module/package names             Short, all lowercase, underscores only if needed                         imp, sys\n",
    "      Function names                   All lowercase, underscores_for_readablitiy                               foo(), my_func()\n",
    "      Variable names                   All lowercase, underscores_for_readablitiy                               my_var\n",
    "      Class names                      CapitalizeEachWord                                                       MyClass\n",
    "      Constant names                   ALL_CAPS_WITH_UNDERSCORES                                                PI, TAX_RATE\n",
    "      Indentation                      Four spaces per level, no tabs\n",
    "      Comparisons                      Don't compare explicitly to True or False                                if my_var: \n",
    "                                                                                                                if not my_var:\n",
    "\"\"\""
   ]
  }
 ],
 "metadata": {
  "kernelspec": {
   "display_name": "Python 3",
   "language": "python",
   "name": "python3"
  },
  "language_info": {
   "codemirror_mode": {
    "name": "ipython",
    "version": 3
   },
   "file_extension": ".py",
   "mimetype": "text/x-python",
   "name": "python",
   "nbconvert_exporter": "python",
   "pygments_lexer": "ipython3",
   "version": "3.6.4"
  }
 },
 "nbformat": 4,
 "nbformat_minor": 2
}
