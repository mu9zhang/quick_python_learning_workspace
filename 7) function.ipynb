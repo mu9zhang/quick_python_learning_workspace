{
 "cells": [
  {
   "cell_type": "code",
   "execution_count": 3,
   "metadata": {},
   "outputs": [
    {
     "name": "stdout",
     "output_type": "stream",
     "text": [
      "Return the factorial of the given number.\n",
      "620448401733239439360000\n"
     ]
    }
   ],
   "source": [
    "\"\"\"\n",
    "Basic Function Definitions\n",
    "\n",
    "1. The basic syntax for a Python function defintion:\n",
    "   (*) def name(parameter1, paramter2, ...):\n",
    "           body\n",
    "\n",
    "2. Documentation string/Docstrings(optional) are strings that immediately follow the first line of a function definition and are usually\n",
    "   triple quoted to allow for multiline descriptions. The intention of docstrings is to describe the external behavior of a function and\n",
    "   the parameters it takes, whereas comments should document internal information about how the code works.\n",
    "\n",
    "3. All Python procedures are functions; if no explicit return is executed in the procedure body, the special Python value None is returned,\n",
    "   and if return arg is executed, the value arg is immediately returned.\n",
    "\"\"\"\n",
    "def fact(n):\n",
    "    \"\"\"Return the factorial of the given number.\"\"\"\n",
    "    r = 1\n",
    "    while n > 0:\n",
    "        r = r * n\n",
    "        n = n - 1\n",
    "    return r\n",
    "\n",
    "print(fact.__doc__)\n",
    "x = fact(24)\n",
    "print(x)"
   ]
  },
  {
   "cell_type": "code",
   "execution_count": 10,
   "metadata": {},
   "outputs": [
    {
     "name": "stdout",
     "output_type": "stream",
     "text": [
      "27 9\n",
      "81\n",
      "8 9\n",
      "x: 2, y: 1, keys in 'other': ['foo', 'bar']\n",
      "The total of values in 'other' is 7\n"
     ]
    }
   ],
   "source": [
    "\"\"\"\n",
    "Function Parameter Options\n",
    "\n",
    "1. The simplest way to pass parameters to a function in Python is by position. This method requires that the number of parameters used by\n",
    "   the calling code exactly matches the number of parameters in the function definition; otherwise, a TypeError exception is raised.\n",
    "\n",
    "2. Function parameters can have default values, which you declare by assigning a default value in the first line of the function definition.\n",
    "   Any number of parameters can be given default values. Parameters with default values must be defined as the last ones in the parameter\n",
    "   list because Python, like most languages, pairs arguments with parameters on a positional basis. There must be enough arguments to\n",
    "   a function that the last parameter in that function’s parameter list without a default value gets an argument. \n",
    "   (*) def fun(arg1, arg2=default2, arg3=default3, . . .)\n",
    "\n",
    "3. You can also pass arguments into a function by using the name of the corresponding function parameter rather than its position. Because\n",
    "   the arguments to power in the final invocation are named, their order is irrelevant; This type of argument passing is called keyword\n",
    "   passing. Keyword passing, in combination with the default argument capability of Python functions, can be highly useful when you’re\n",
    "   defining functions with large numbers of possible arguments, most of which have common defaults.\n",
    "\n",
    "4. Python functions can also be defined to handle variable numbers of arguments, which you can do in two ways. One way handles the relatively\n",
    "   familiar case in which you want to collect an unknown number of arguments at the end of the argument list into a list. The other method\n",
    "   can collect an arbitrary number of keyword-passed arguments, which have no correspondingly named parameter in the function parameter list,\n",
    "   into a dictionary.\n",
    "\n",
    "5. Prefixing the final parameter name of the function with a * causes all excess non-keyword arguments in a call of a function (that is,\n",
    "   those positional arguments not assigned to another parameter) to be collected together and assigned as a tuple to the given parameter.\n",
    "\n",
    "6. An arbitrary number of keyword arguments can also be handled. If the final parameter in the parameter list is prefixed with **,\n",
    "   it collects all excess keyword-passed arguments into a dictionary. The key for each entry in the dictionary is the keyword (parameter name)\n",
    "   for the excess argument. The value of that entry is the argument itself. An argument passed by keyword is excess in this context if the\n",
    "   keyword by which it was passed doesn’t match one of the parameter names in the function definition. \n",
    "\n",
    "7. The general rule for using mixed argument-passing is that positional arguments come first, then named arguments, followed by\n",
    "   the indefinite positional argument with a single *, and last of all the indefinite keyword argument with **. \n",
    "\"\"\"\n",
    "\n",
    "# positional parameter\n",
    "def power(x, y=2):\n",
    "    r = 1\n",
    "    while y > 0:\n",
    "        r = r * x\n",
    "        y = y - 1\n",
    "    return r\n",
    "\n",
    "print(power(3, 3), power(3))\n",
    "\n",
    "# passing arguments by paramter name\n",
    "print(power(y=4, x=3))\n",
    "\n",
    "# dealing with an indefinite number of positional arguments\n",
    "def maximum(*numbers):\n",
    "    if len(numbers) == 0:\n",
    "        return None\n",
    "    else:\n",
    "        maxnum = numbers[0]\n",
    "        for n in numbers[1:]:\n",
    "            if n > maxnum:\n",
    "                maxnum = n\n",
    "        return maxnum\n",
    "\n",
    "print(maximum(3, 2, 8), maximum(1, 5, 9, -2, 2))\n",
    "\n",
    "# dealing with an indefinite number of arguments passed by keyword\n",
    "def example_fun(x, y, **other):\n",
    "    print(\"x: {0}, y: {1}, keys in 'other': {2}\".format(x,y, list(other.keys())))\n",
    "    other_total = 0\n",
    "    for k in other.keys():\n",
    "        other_total = other_total + other[k]\n",
    "    print(\"The total of values in 'other' is {0}\".format(other_total))\n",
    "\n",
    "example_fun(2, y=\"1\", foo=3, bar=4)"
   ]
  },
  {
   "cell_type": "code",
   "execution_count": 12,
   "metadata": {},
   "outputs": [
    {
     "name": "stdout",
     "output_type": "stream",
     "text": [
      "5 [1, 2, 3] [4, 5, -1]\n"
     ]
    }
   ],
   "source": [
    "\"\"\"\n",
    "Mutable objects as arguments\n",
    "\n",
    "Arguments are passed in by object reference. The parameter becomes a new reference to the object. For immutable objects (such as tuples,\n",
    "strings, and numbers), what is done with a parameter has no effect outside the function. But if you pass in a mutable object (such as a list,\n",
    "dictionary, or class instance), any change made to the object changes what the argument is referencing outside the function. Reassigning the\n",
    "parameter doesn’t affect the argument.\n",
    "\"\"\"\n",
    "\n",
    "def f(n, list1, list2):\n",
    "    list1.append(3)\n",
    "    list2 = [4, 5, 6]\n",
    "    n = n + 1\n",
    "\n",
    "x = 5\n",
    "y = [1, 2]\n",
    "z = [4, 5]\n",
    "f(x, y, z)\n",
    "print(x, y, z)"
   ]
  },
  {
   "cell_type": "code",
   "execution_count": 9,
   "metadata": {},
   "outputs": [
    {
     "name": "stdout",
     "output_type": "stream",
     "text": [
      "1 two\n",
      "top level -> g_var: 0 nl_var: 0\n",
      "in test-> g_var: 0 nl_var: 2\n",
      "in inner_test-> g_var: 1 nl_var: 4\n",
      "in test-> g_var: 1 nl_var: 2\n",
      "top level-> g_var: 1 nl_var: 0\n"
     ]
    }
   ],
   "source": [
    "\"\"\"\n",
    "Local, Nonlocal, and Global Variables\n",
    "\n",
    "\n",
    "1.  Any variables in the parameter list of a function,or created within a function by an assignment are local to the function.\n",
    "\n",
    "2. You can explicitly make a variable global by declaring it so before the variable is used, using the global statement. Global variables\n",
    "   can be accessed and changed by the function. They exist outside the function and can also be accessed and changed by other functions\n",
    "   that declare them global or by code that’s not within a function.\n",
    "\n",
    "3.  Similar to the global statement is the nonlocal statement, which causes an identifier to refer to a previously bound variable in the\n",
    "    closest enclosing scope. The point is that global is used for a top-level variable, whereas nonlocal can refer to any variable in\n",
    "    an enclosing scope.\n",
    "\"\"\"\n",
    "\n",
    "# a is a global variable and b is a local variable\n",
    "def fun():\n",
    "    global a\n",
    "    a = 1\n",
    "\n",
    "a = \"one\"\n",
    "b = \"two\"\n",
    "fun()\n",
    "print(a, b)\n",
    "\n",
    "# nonlocal\n",
    "g_var = 0\n",
    "nl_var = 0\n",
    "print(\"top level -> g_var: {0} nl_var: {1}\".format(g_var, nl_var))\n",
    "def test():\n",
    "    nl_var = 2\n",
    "    print(\"in test-> g_var: {0} nl_var: {1}\".format(g_var, nl_var))\n",
    "    def inner_test():\n",
    "        global g_var\n",
    "        nonlocal nl_var\n",
    "        g_var = 1\n",
    "        nl_var = 4\n",
    "        print(\"in inner_test-> g_var: {0} nl_var: {1}\".format(g_var,nl_var))\n",
    "    inner_test()\n",
    "    print(\"in test-> g_var: {0} nl_var: {1}\".format(g_var, nl_var))\n",
    "\n",
    "test()\n",
    "print(\"top level-> g_var: {0} nl_var: {1}\".format(g_var, nl_var))"
   ]
  },
  {
   "cell_type": "code",
   "execution_count": 11,
   "metadata": {},
   "outputs": [
    {
     "name": "stdout",
     "output_type": "stream",
     "text": [
      "273.15\n",
      "273.15\n",
      "273.15 273.15\n"
     ]
    }
   ],
   "source": [
    "\"\"\"\n",
    "Assigning Functions to Variables\n",
    "\"\"\"\n",
    "\n",
    "def f_to_kelvin(degrees_f):\n",
    "    return 273.15 + (degrees_f - 32) * 5 / 9\n",
    "\n",
    "def c_to_kelvin(degrees_c):\n",
    "    return 273.15 + degrees_c\n",
    "\n",
    "# functions can be assigned, like other Python objects, to variables.\n",
    "abs_temperature = f_to_kelvin\n",
    "print(abs_temperature(32))\n",
    "\n",
    "abs_temperature = c_to_kelvin \n",
    "print(abs_temperature(0))\n",
    "\n",
    "# use a dictionary to call different functions by the value of the strings used as keys\n",
    "t = {'FtoK': f_to_kelvin, 'CtoK': c_to_kelvin}\n",
    "print(t['FtoK'](32),  t['CtoK'](0))"
   ]
  },
  {
   "cell_type": "code",
   "execution_count": 12,
   "metadata": {},
   "outputs": [
    {
     "name": "stdout",
     "output_type": "stream",
     "text": [
      "273.15\n"
     ]
    }
   ],
   "source": [
    "\"\"\"\n",
    "Lambda Expression\n",
    "\n",
    "1. lambda expressions of the form:\n",
    "   (*) lambda parameter1, parameter2, . . .: expression\n",
    "\n",
    "2. lambda expressions are anonymous little functions that you can quickly define inline. Often, a small function needs to be passed to\n",
    "   another function, like the key function used by a list’s sort method. In such cases, a large function is usually unnecessary, and\n",
    "   it would be awkward to have to define the function in a separate place from where it’s used. \n",
    "\"\"\"\n",
    "t2 = {'FtoK': lambda deg_f: 273.15 + (deg_f - 32) * 5 / 9,\n",
    "      'CtoK': lambda deg_c: 273.15 + deg_c}\n",
    "print(t2['FtoK'](32))"
   ]
  },
  {
   "cell_type": "code",
   "execution_count": 17,
   "metadata": {},
   "outputs": [
    {
     "name": "stdout",
     "output_type": "stream",
     "text": [
      "in generator, x = 0\n",
      "0\n",
      "in generator, x = 1\n",
      "1\n",
      "in generator, x = 2\n",
      "2\n",
      "in generator, x = 3\n",
      "3\n",
      "\n",
      "0\n",
      "1\n",
      "2\n",
      "3\n",
      "4\n",
      "5\n",
      "\n",
      "in generator, x = 0\n",
      "in generator, x = 1\n",
      "in generator, x = 2\n",
      "True\n",
      "\n",
      "in generator, x = 0\n",
      "in generator, x = 1\n",
      "in generator, x = 2\n",
      "in generator, x = 3\n",
      "False\n"
     ]
    }
   ],
   "source": [
    "\"\"\"\n",
    "Generator Functions\n",
    "\n",
    "1. A generator function is a special kind of function that you can use to define your own iterators. When you define a generator function,\n",
    "   you return each iteration’s value using the yield keyword. The generator will stop returning values when there are no more iterations,\n",
    "   or it encounters either an empty return statement or the end of the function.\n",
    "\n",
    "2. Local variables in a generator function are saved from one call to the next, unlike in normal functions.\n",
    "\n",
    "3. Depending on how it’s used, a generator that doesn’t have some condition to halt it could cause an endless loop when called.\n",
    "\n",
    "4. Starting with Python 3.3, the new key word for generators, yield from, joins yield. Basically, yield from makes it possible to string\n",
    "   generators together. yield from behaves the same way as yield, except that it delegates the generator machinery to a subgenerator.\n",
    "\n",
    "5. You can also use generator functions with in to see whether a value is in the series that the generator produces.\n",
    "\"\"\"\n",
    "# generator & yield\n",
    "def four():\n",
    "    x = 0\n",
    "    while x < 4:\n",
    "        print(\"in generator, x =\", x)\n",
    "        yield x\n",
    "        x = x + 1\n",
    "    \n",
    "for i in four():\n",
    "    print(i)\n",
    "\n",
    "# yield from\n",
    "def subgen(x):\n",
    "    for i in range(x):\n",
    "        yield i\n",
    "\n",
    "def gen(y):\n",
    "    yield from subgen(y) # allows the yield expression to be moved out of the main generator, making refactoring easier. \n",
    "\n",
    "print()\n",
    "for q in gen(6):\n",
    "    print(q)\n",
    "\n",
    "# check\n",
    "print()\n",
    "print(2 in four())\n",
    "\n",
    "print()\n",
    "print(5 in four())"
   ]
  },
  {
   "cell_type": "code",
   "execution_count": 22,
   "metadata": {},
   "outputs": [
    {
     "name": "stdout",
     "output_type": "stream",
     "text": [
      "in decorate function, decorating myfunction\n",
      "Executing myfunction\n",
      "hello\n",
      "in decorate function, decorating mynewfunction\n",
      "Executing mynewfunction\n",
      "hello\n"
     ]
    }
   ],
   "source": [
    "\"\"\"\n",
    "Decorators\n",
    "\n",
    "1. Because functions are first-class objects in Python, they can be assigned to variables. Functions can also be passed as arguments to\n",
    "   other functions and passed back as return values from other functions.\n",
    "\n",
    "2. It’s possible to write a Python function that takes another function as its parameter, wraps it in another function that does something\n",
    "   related, and then returns the new function.\n",
    "\n",
    "3. A decorator is syntactic sugar for this process and lets you wrap one function inside another with a one-line addition. It still gives\n",
    "   you exactly the same effect as the previous code, but the resulting code is much cleaner and easier to read.\n",
    "\n",
    "4.  Using a decorator to wrap one function in another can be handy for several purposes. In web frameworks such as Django, decorators are\n",
    "    used to make sure that a user is logged in before executing a function; and in graphics libraries, decorators can be used to register\n",
    "    a function with the graphics framework. \n",
    "\"\"\"\n",
    "\n",
    "\n",
    "\n",
    "def decorate(func):\n",
    "    print(\"in decorate function, decorating\", func.__name__)\n",
    "    def wrapper_func(*args):\n",
    "        print(\"Executing\", func.__name__)\n",
    "        return func(*args)\n",
    "    return wrapper_func\n",
    "\n",
    "def myfunction(parameter):\n",
    "    print(parameter)\n",
    "\n",
    "\n",
    "function = decorate(myfunction)\n",
    "function(\"hello\")\n",
    "\n",
    "@decorate \n",
    "def mynewfunction(parameter):\n",
    "    print(parameter)\n",
    "    \n",
    "mynewfunction('hello')"
   ]
  }
 ],
 "metadata": {
  "kernelspec": {
   "display_name": "Python 3",
   "language": "python",
   "name": "python3"
  },
  "language_info": {
   "codemirror_mode": {
    "name": "ipython",
    "version": 3
   },
   "file_extension": ".py",
   "mimetype": "text/x-python",
   "name": "python",
   "nbconvert_exporter": "python",
   "pygments_lexer": "ipython3",
   "version": "3.6.4"
  }
 },
 "nbformat": 4,
 "nbformat_minor": 2
}
