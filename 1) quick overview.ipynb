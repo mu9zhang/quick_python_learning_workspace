{
 "cells": [
  {
   "cell_type": "code",
   "execution_count": null,
   "metadata": {},
   "outputs": [],
   "source": [
    "\"\"\"\n",
    "What Python does well?\n",
    "\n",
    "\n",
    "1. Python is easy to use.\n",
    "   -- Types are associated with objects, not variables. A variable can be assigned a value of any type, and a list can contain objects\n",
    "      of many types. This also means that type casting usually isn’t necessary and that your code isn’t locked into the straitjacket\n",
    "      of predeclared types.\n",
    "   -- Python typically operates at a much higher level of abstraction. This is partly the result of the way the language is built and\n",
    "      partly the result of an extensive standard code library that comes with the Python distribution. A program to download a web page\n",
    "      can be written in two or three lines!\n",
    "   -- Syntax rules are very simple. Although becoming an expert Pythonista takes time and effort, even beginners can absorb enough Python\n",
    "      syntax to write useful code quickly. \n",
    "\n",
    "2. Python is a very expressive language. Expressive in this context means that a single line of Python code can do more than a single line\n",
    "   of code in most other languages. The advantages of a more expressive language are obvious: The fewer lines of code you have to write,\n",
    "   the faster you can complete the project. The fewer lines of code there are, the easier the program will be to maintain and debug. \n",
    "\n",
    "3. Python is easy to read. The easier code is to understand, the easier it is to debug, maintain, and modify. Python’s main advantage\n",
    "   is its use of indentation. Unlike most languages, Python insists that blocks of code be indented. Although this strikes some people\n",
    "   as odd, it has the benefit that your code is always formatted in a very easy-toread style.\n",
    "\n",
    "4. Another advantage of Python is its “batteries included” philosophy when it comes to libraries. The idea is that when you install\n",
    "   Python, you should have everything you need to do real work without the need to install additional libraries. This is why the Python\n",
    "   standard library comes with modules for handling email, web pages, databases, operating-system calls, GUI development, and more. \n",
    "\n",
    "5. Python is also an excellent cross-platform language. Python runs on many platforms: Windows, Mac, Linux, UNIX, and so on. Because it’s\n",
    "   interpreted, the same code can run on any platform that has a Python interpreter, and almost all current platforms have one.\n",
    "\n",
    "6. Python is also free. Python was originally, and continues to be, developed under the open source model, and it’s freely available.\n",
    "\"\"\"\n",
    "\n"
   ]
  },
  {
   "cell_type": "code",
   "execution_count": null,
   "metadata": {},
   "outputs": [],
   "source": [
    "\"\"\"\n",
    "What Python doesn’t do as well?\n",
    "\n",
    "\n",
    "1. Python isn’t the fastest language. It isn’t a fully compiled language. Instead, it’s first compiled to an internal bytecode form,\n",
    "   which is then executed by a Python interpreter. There are some tasks, such as string parsing using regular expressions, for which Python\n",
    "   has efficient implementations and is as fast as, or faster than, any C program you’re likely to write. Nevertheless, most of the time,\n",
    "   using Python results in slower programs than in a language like C.\n",
    "\n",
    "2. Although Python comes with an excellent collection of libraries, and many more are available, Python doesn’t hold the lead in this\n",
    "   department. Languages like C, Java, and Perl have even larger collections of libraries available.\n",
    "   \n",
    "3. Python doesn’t check variable types at compile time. Unlike in some languages, Python’s variables don’t work like containers; instead,\n",
    "   they’re more like labels that reference various objects: integers, strings, class instances, whatever. That means that although those\n",
    "   objects themselves have types, the variables referring to them aren’t bound to that particular type. The fact that Python associates\n",
    "   types with objects and not with variables means that the interpreter doesn’t help you catch variable type mismatches.\n",
    "\n",
    "4. In the past decade the numbers and types of mobile devices have exploded, and smartphones, tablets, phablets, Chromebooks, and more are\n",
    "   everywhere, running on a variety of operating systems. Python isn’t a strong player in this space.\n",
    "\n",
    "5. Multiple-core processors are everywhere now, producing significant increases in performance in many situations. However, the standard\n",
    "   implementation of Python isn’t designed to use multiple cores, due to a feature called the global interpreter lock(GIL). \n",
    "\"\"\""
   ]
  },
  {
   "cell_type": "code",
   "execution_count": null,
   "metadata": {},
   "outputs": [],
   "source": [
    "\"\"\"\n",
    "Although the changes in Python 3 break compatibility with older code, those changes are fairly small and for the better; they make the\n",
    "language more consistent, more readable, and less ambiguous. Python 3 isn’t a dramatic rewrite of the language; it’s a\n",
    "well-thought-out evolution.\n",
    "\"\"\""
   ]
  }
 ],
 "metadata": {
  "kernelspec": {
   "display_name": "Python 3",
   "language": "python",
   "name": "python3"
  },
  "language_info": {
   "codemirror_mode": {
    "name": "ipython",
    "version": 3
   },
   "file_extension": ".py",
   "mimetype": "text/x-python",
   "name": "python",
   "nbconvert_exporter": "python",
   "pygments_lexer": "ipython3",
   "version": "3.6.4"
  }
 },
 "nbformat": 4,
 "nbformat_minor": 2
}
